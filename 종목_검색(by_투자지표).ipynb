{
  "nbformat": 4,
  "nbformat_minor": 0,
  "metadata": {
    "colab": {
      "provenance": [],
      "authorship_tag": "ABX9TyN3M4DaBcEcJqtC5W9XKW6W",
      "include_colab_link": true
    },
    "kernelspec": {
      "name": "python3",
      "display_name": "Python 3"
    },
    "language_info": {
      "name": "python"
    }
  },
  "cells": [
    {
      "cell_type": "markdown",
      "metadata": {
        "id": "view-in-github",
        "colab_type": "text"
      },
      "source": [
        "<a href=\"https://colab.research.google.com/github/redballoon73/Portfolio/blob/main/%EC%A2%85%EB%AA%A9_%EA%B2%80%EC%83%89(by_%ED%88%AC%EC%9E%90%EC%A7%80%ED%91%9C).ipynb\" target=\"_parent\"><img src=\"https://colab.research.google.com/assets/colab-badge.svg\" alt=\"Open In Colab\"/></a>"
      ]
    },
    {
      "cell_type": "markdown",
      "source": [
        "# 조건 대상\n",
        "1. 매출액에서 차지하는 비중 그 상품이 회사의 매출액의 20퍼센트 이상 차지해야 된다.\n",
        "2. 주가수익비율. PER과 회사의 연간 이익증가율을 비교\n",
        "3. 현금보유량. 현금 보유량에서 장기부채를 제외해서 남는 순현금의 양을 체크하기\n",
        "4. 부채요소. 정상 기업은 주주지분 75%, 부채 25%로 구성. (부채/현금 의 비율인 부채비율은 200% 이내여야 한다.)\n",
        "5. 배당. 고배당주(저성장주)는 배당을 바라보고 매입하기 때문에 수십년간 배당을 규칙적으로 증가시켰는 지 확인하기\n",
        "6. 현금 흐름. 잉여현금흐름이 주가의 10% 이상인(영업이익이 큰) 회사\n",
        "7. 재고 자산. 재고가 매출보다 빠르게 증가하는 것은 위험 신호다.\n",
        "8. 이익성장률. 성장의 핵심은 원가절감, 가격인상 등을 통한 이익증가이다. 이익성장률이 높은회사가 좋다\n",
        "9. EV(시장가치) = 시가총액(주식 수*주가) + 총 부채 - (현금+유가증권)\n",
        "   EBIDTA = 총 이익 + ( 감가상각비 + 세금 )\n",
        "   EV/EBIDTA가 작을수록 주식 가격이 매력적. 매수! 근데 음수면 안됨ㅋㅋ\n",
        "10. 매출 증가율이 지속적으로 좋아야 함.\n",
        "11. 매출채권이 갑자기 늘고 부채가 갑자기 감소하면 분식회계. 안좋은것.\n",
        "12. 과도한 투자나 생뚱맞은 데 투자하는 기업은 망함.\n",
        "13. 시장 점유율\n",
        "14. PBR = 주식 가격 / 주당 순자산(=(전체 자산-부채)/총 주식 수)\n",
        "    PBR이 낮을 수록 좋은 것. PBR이 1 미만이면 주가가 순자산보다 싼 경우."
      ],
      "metadata": {
        "id": "eI-DB7EPL-qw"
      }
    },
    {
      "cell_type": "markdown",
      "source": [
        "# 투자 지표\n",
        "1. EV/EBIDTA\n",
        "2. PER vs 연간 이익 성장률\n",
        "3. PBR\n",
        "4. 이익성장률\n",
        "5. 매출 증가율\n",
        "6. 현금 보유량\n",
        "7. 부채비율"
      ],
      "metadata": {
        "id": "RkH8r7-VSsz5"
      }
    },
    {
      "cell_type": "markdown",
      "source": [
        "# 설계\n",
        "1. KRX에서 종목 코드 찾기 (Pandas, DataFrame)\n",
        "2. 찾은 종목 코드로 네이버 금융에 검색 (주소창에 종목 코드 입력)\n",
        "3. 네이버 금융에서 투자 지표 가져오기 (BeautifulSoup)\n",
        "4. 투자 지표 각각의 기준 설정해서 기준 충족하면 True, 충족 못하면 False\n",
        "5. for i in KRX 종목코드 : 로 코스피에 있는 모든 회사의 투자 지표 필터링\n",
        "6. 투자 지표 조건 선택해서 여러개의 조건 충족시키는 회사 찾기"
      ],
      "metadata": {
        "id": "8CX8B7LNTmNR"
      }
    },
    {
      "cell_type": "markdown",
      "source": [
        "#프로그램 시작"
      ],
      "metadata": {
        "id": "xZPsua5zVk3h"
      }
    },
    {
      "cell_type": "markdown",
      "source": [
        "##1. KRX에서 종목 코드 찾기 (Pandas, DataFrame)"
      ],
      "metadata": {
        "id": "jt3YrgHVTrSH"
      }
    },
    {
      "cell_type": "code",
      "source": [
        "import pandas as pd\n",
        "df = pd.read_excel('/content/data_0719_20220806.xlsx')\n",
        "df"
      ],
      "metadata": {
        "colab": {
          "base_uri": "https://localhost:8080/",
          "height": 424
        },
        "id": "jRLbFPngVkTJ",
        "outputId": "35d5111e-43d4-42fa-c3fa-430902aeec63"
      },
      "execution_count": null,
      "outputs": [
        {
          "output_type": "execute_result",
          "data": {
            "text/plain": [
              "             표준코드    단축코드            한글 종목명  한글 종목약명  \\\n",
              "0    KR7095570008   95570         AJ네트웍스보통주   AJ네트웍스   \n",
              "1    KR7006840003    6840          AK홀딩스보통주    AK홀딩스   \n",
              "2    KR7282330000  282330         BGF리테일보통주   BGF리테일   \n",
              "3    KR7027410000   27410            BGF보통주      BGF   \n",
              "4    KR7138930003  138930        BNK금융지주보통주  BNK금융지주   \n",
              "..            ...     ...               ...      ...   \n",
              "933  KR7005010004    5010            휴스틸보통주      휴스틸   \n",
              "934  KR7000541003     545      흥국화재해상보험1우선주    흥국화재우   \n",
              "935  KR7000542001     547  흥국화재해상보험2우선주(신형)  흥국화재2우B   \n",
              "936  KR7000540005     540       흥국화재해상보험보통주     흥국화재   \n",
              "937  KR7003280005    3280           흥아해운보통주     흥아해운   \n",
              "\n",
              "                           영문 종목명        상장일   시장구분 증권구분  소속부   주식종류   액면가  \\\n",
              "0            AJ Networks Co.,Ltd. 2015-08-21  KOSPI   주권  NaN    보통주  1000   \n",
              "1               AK Holdings, Inc. 1999-08-11  KOSPI   주권  NaN    보통주  5000   \n",
              "2                      BGF Retail 2017-12-08  KOSPI   주권  NaN    보통주  1000   \n",
              "3                             BGF 2014-05-19  KOSPI   주권  NaN    보통주  1000   \n",
              "4        BNK Financial Group Inc. 2011-03-30  KOSPI   주권  NaN    보통주  5000   \n",
              "..                            ...        ...    ...  ...  ...    ...   ...   \n",
              "933                       HUSTEEL 1973-06-29  KOSPI   주권  NaN    보통주  1000   \n",
              "934    HeungkukFire&MarineIns(1P) 1990-03-20  KOSPI   주권  NaN  구형우선주  5000   \n",
              "935   HeungkukFire&MarineIns(2PB) 1999-08-09  KOSPI   주권  NaN  신형우선주  5000   \n",
              "936  HeungkukFire&MarineInsurance 1974-12-05  KOSPI   주권  NaN    보통주  5000   \n",
              "937                HeungaShipping 1976-06-29  KOSPI   주권  NaN    보통주   500   \n",
              "\n",
              "         상장주식수  \n",
              "0     46822295  \n",
              "1     13247561  \n",
              "2     17283906  \n",
              "3     95716791  \n",
              "4    325935246  \n",
              "..         ...  \n",
              "933   39188075  \n",
              "934     768000  \n",
              "935     153600  \n",
              "936   64242645  \n",
              "937  240424899  \n",
              "\n",
              "[938 rows x 12 columns]"
            ],
            "text/html": [
              "\n",
              "  <div id=\"df-73d8adf2-9a18-4264-9991-a1ec847b6754\">\n",
              "    <div class=\"colab-df-container\">\n",
              "      <div>\n",
              "<style scoped>\n",
              "    .dataframe tbody tr th:only-of-type {\n",
              "        vertical-align: middle;\n",
              "    }\n",
              "\n",
              "    .dataframe tbody tr th {\n",
              "        vertical-align: top;\n",
              "    }\n",
              "\n",
              "    .dataframe thead th {\n",
              "        text-align: right;\n",
              "    }\n",
              "</style>\n",
              "<table border=\"1\" class=\"dataframe\">\n",
              "  <thead>\n",
              "    <tr style=\"text-align: right;\">\n",
              "      <th></th>\n",
              "      <th>표준코드</th>\n",
              "      <th>단축코드</th>\n",
              "      <th>한글 종목명</th>\n",
              "      <th>한글 종목약명</th>\n",
              "      <th>영문 종목명</th>\n",
              "      <th>상장일</th>\n",
              "      <th>시장구분</th>\n",
              "      <th>증권구분</th>\n",
              "      <th>소속부</th>\n",
              "      <th>주식종류</th>\n",
              "      <th>액면가</th>\n",
              "      <th>상장주식수</th>\n",
              "    </tr>\n",
              "  </thead>\n",
              "  <tbody>\n",
              "    <tr>\n",
              "      <th>0</th>\n",
              "      <td>KR7095570008</td>\n",
              "      <td>95570</td>\n",
              "      <td>AJ네트웍스보통주</td>\n",
              "      <td>AJ네트웍스</td>\n",
              "      <td>AJ Networks Co.,Ltd.</td>\n",
              "      <td>2015-08-21</td>\n",
              "      <td>KOSPI</td>\n",
              "      <td>주권</td>\n",
              "      <td>NaN</td>\n",
              "      <td>보통주</td>\n",
              "      <td>1000</td>\n",
              "      <td>46822295</td>\n",
              "    </tr>\n",
              "    <tr>\n",
              "      <th>1</th>\n",
              "      <td>KR7006840003</td>\n",
              "      <td>6840</td>\n",
              "      <td>AK홀딩스보통주</td>\n",
              "      <td>AK홀딩스</td>\n",
              "      <td>AK Holdings, Inc.</td>\n",
              "      <td>1999-08-11</td>\n",
              "      <td>KOSPI</td>\n",
              "      <td>주권</td>\n",
              "      <td>NaN</td>\n",
              "      <td>보통주</td>\n",
              "      <td>5000</td>\n",
              "      <td>13247561</td>\n",
              "    </tr>\n",
              "    <tr>\n",
              "      <th>2</th>\n",
              "      <td>KR7282330000</td>\n",
              "      <td>282330</td>\n",
              "      <td>BGF리테일보통주</td>\n",
              "      <td>BGF리테일</td>\n",
              "      <td>BGF Retail</td>\n",
              "      <td>2017-12-08</td>\n",
              "      <td>KOSPI</td>\n",
              "      <td>주권</td>\n",
              "      <td>NaN</td>\n",
              "      <td>보통주</td>\n",
              "      <td>1000</td>\n",
              "      <td>17283906</td>\n",
              "    </tr>\n",
              "    <tr>\n",
              "      <th>3</th>\n",
              "      <td>KR7027410000</td>\n",
              "      <td>27410</td>\n",
              "      <td>BGF보통주</td>\n",
              "      <td>BGF</td>\n",
              "      <td>BGF</td>\n",
              "      <td>2014-05-19</td>\n",
              "      <td>KOSPI</td>\n",
              "      <td>주권</td>\n",
              "      <td>NaN</td>\n",
              "      <td>보통주</td>\n",
              "      <td>1000</td>\n",
              "      <td>95716791</td>\n",
              "    </tr>\n",
              "    <tr>\n",
              "      <th>4</th>\n",
              "      <td>KR7138930003</td>\n",
              "      <td>138930</td>\n",
              "      <td>BNK금융지주보통주</td>\n",
              "      <td>BNK금융지주</td>\n",
              "      <td>BNK Financial Group Inc.</td>\n",
              "      <td>2011-03-30</td>\n",
              "      <td>KOSPI</td>\n",
              "      <td>주권</td>\n",
              "      <td>NaN</td>\n",
              "      <td>보통주</td>\n",
              "      <td>5000</td>\n",
              "      <td>325935246</td>\n",
              "    </tr>\n",
              "    <tr>\n",
              "      <th>...</th>\n",
              "      <td>...</td>\n",
              "      <td>...</td>\n",
              "      <td>...</td>\n",
              "      <td>...</td>\n",
              "      <td>...</td>\n",
              "      <td>...</td>\n",
              "      <td>...</td>\n",
              "      <td>...</td>\n",
              "      <td>...</td>\n",
              "      <td>...</td>\n",
              "      <td>...</td>\n",
              "      <td>...</td>\n",
              "    </tr>\n",
              "    <tr>\n",
              "      <th>933</th>\n",
              "      <td>KR7005010004</td>\n",
              "      <td>5010</td>\n",
              "      <td>휴스틸보통주</td>\n",
              "      <td>휴스틸</td>\n",
              "      <td>HUSTEEL</td>\n",
              "      <td>1973-06-29</td>\n",
              "      <td>KOSPI</td>\n",
              "      <td>주권</td>\n",
              "      <td>NaN</td>\n",
              "      <td>보통주</td>\n",
              "      <td>1000</td>\n",
              "      <td>39188075</td>\n",
              "    </tr>\n",
              "    <tr>\n",
              "      <th>934</th>\n",
              "      <td>KR7000541003</td>\n",
              "      <td>545</td>\n",
              "      <td>흥국화재해상보험1우선주</td>\n",
              "      <td>흥국화재우</td>\n",
              "      <td>HeungkukFire&amp;MarineIns(1P)</td>\n",
              "      <td>1990-03-20</td>\n",
              "      <td>KOSPI</td>\n",
              "      <td>주권</td>\n",
              "      <td>NaN</td>\n",
              "      <td>구형우선주</td>\n",
              "      <td>5000</td>\n",
              "      <td>768000</td>\n",
              "    </tr>\n",
              "    <tr>\n",
              "      <th>935</th>\n",
              "      <td>KR7000542001</td>\n",
              "      <td>547</td>\n",
              "      <td>흥국화재해상보험2우선주(신형)</td>\n",
              "      <td>흥국화재2우B</td>\n",
              "      <td>HeungkukFire&amp;MarineIns(2PB)</td>\n",
              "      <td>1999-08-09</td>\n",
              "      <td>KOSPI</td>\n",
              "      <td>주권</td>\n",
              "      <td>NaN</td>\n",
              "      <td>신형우선주</td>\n",
              "      <td>5000</td>\n",
              "      <td>153600</td>\n",
              "    </tr>\n",
              "    <tr>\n",
              "      <th>936</th>\n",
              "      <td>KR7000540005</td>\n",
              "      <td>540</td>\n",
              "      <td>흥국화재해상보험보통주</td>\n",
              "      <td>흥국화재</td>\n",
              "      <td>HeungkukFire&amp;MarineInsurance</td>\n",
              "      <td>1974-12-05</td>\n",
              "      <td>KOSPI</td>\n",
              "      <td>주권</td>\n",
              "      <td>NaN</td>\n",
              "      <td>보통주</td>\n",
              "      <td>5000</td>\n",
              "      <td>64242645</td>\n",
              "    </tr>\n",
              "    <tr>\n",
              "      <th>937</th>\n",
              "      <td>KR7003280005</td>\n",
              "      <td>3280</td>\n",
              "      <td>흥아해운보통주</td>\n",
              "      <td>흥아해운</td>\n",
              "      <td>HeungaShipping</td>\n",
              "      <td>1976-06-29</td>\n",
              "      <td>KOSPI</td>\n",
              "      <td>주권</td>\n",
              "      <td>NaN</td>\n",
              "      <td>보통주</td>\n",
              "      <td>500</td>\n",
              "      <td>240424899</td>\n",
              "    </tr>\n",
              "  </tbody>\n",
              "</table>\n",
              "<p>938 rows × 12 columns</p>\n",
              "</div>\n",
              "      <button class=\"colab-df-convert\" onclick=\"convertToInteractive('df-73d8adf2-9a18-4264-9991-a1ec847b6754')\"\n",
              "              title=\"Convert this dataframe to an interactive table.\"\n",
              "              style=\"display:none;\">\n",
              "        \n",
              "  <svg xmlns=\"http://www.w3.org/2000/svg\" height=\"24px\"viewBox=\"0 0 24 24\"\n",
              "       width=\"24px\">\n",
              "    <path d=\"M0 0h24v24H0V0z\" fill=\"none\"/>\n",
              "    <path d=\"M18.56 5.44l.94 2.06.94-2.06 2.06-.94-2.06-.94-.94-2.06-.94 2.06-2.06.94zm-11 1L8.5 8.5l.94-2.06 2.06-.94-2.06-.94L8.5 2.5l-.94 2.06-2.06.94zm10 10l.94 2.06.94-2.06 2.06-.94-2.06-.94-.94-2.06-.94 2.06-2.06.94z\"/><path d=\"M17.41 7.96l-1.37-1.37c-.4-.4-.92-.59-1.43-.59-.52 0-1.04.2-1.43.59L10.3 9.45l-7.72 7.72c-.78.78-.78 2.05 0 2.83L4 21.41c.39.39.9.59 1.41.59.51 0 1.02-.2 1.41-.59l7.78-7.78 2.81-2.81c.8-.78.8-2.07 0-2.86zM5.41 20L4 18.59l7.72-7.72 1.47 1.35L5.41 20z\"/>\n",
              "  </svg>\n",
              "      </button>\n",
              "      \n",
              "  <style>\n",
              "    .colab-df-container {\n",
              "      display:flex;\n",
              "      flex-wrap:wrap;\n",
              "      gap: 12px;\n",
              "    }\n",
              "\n",
              "    .colab-df-convert {\n",
              "      background-color: #E8F0FE;\n",
              "      border: none;\n",
              "      border-radius: 50%;\n",
              "      cursor: pointer;\n",
              "      display: none;\n",
              "      fill: #1967D2;\n",
              "      height: 32px;\n",
              "      padding: 0 0 0 0;\n",
              "      width: 32px;\n",
              "    }\n",
              "\n",
              "    .colab-df-convert:hover {\n",
              "      background-color: #E2EBFA;\n",
              "      box-shadow: 0px 1px 2px rgba(60, 64, 67, 0.3), 0px 1px 3px 1px rgba(60, 64, 67, 0.15);\n",
              "      fill: #174EA6;\n",
              "    }\n",
              "\n",
              "    [theme=dark] .colab-df-convert {\n",
              "      background-color: #3B4455;\n",
              "      fill: #D2E3FC;\n",
              "    }\n",
              "\n",
              "    [theme=dark] .colab-df-convert:hover {\n",
              "      background-color: #434B5C;\n",
              "      box-shadow: 0px 1px 3px 1px rgba(0, 0, 0, 0.15);\n",
              "      filter: drop-shadow(0px 1px 2px rgba(0, 0, 0, 0.3));\n",
              "      fill: #FFFFFF;\n",
              "    }\n",
              "  </style>\n",
              "\n",
              "      <script>\n",
              "        const buttonEl =\n",
              "          document.querySelector('#df-73d8adf2-9a18-4264-9991-a1ec847b6754 button.colab-df-convert');\n",
              "        buttonEl.style.display =\n",
              "          google.colab.kernel.accessAllowed ? 'block' : 'none';\n",
              "\n",
              "        async function convertToInteractive(key) {\n",
              "          const element = document.querySelector('#df-73d8adf2-9a18-4264-9991-a1ec847b6754');\n",
              "          const dataTable =\n",
              "            await google.colab.kernel.invokeFunction('convertToInteractive',\n",
              "                                                     [key], {});\n",
              "          if (!dataTable) return;\n",
              "\n",
              "          const docLinkHtml = 'Like what you see? Visit the ' +\n",
              "            '<a target=\"_blank\" href=https://colab.research.google.com/notebooks/data_table.ipynb>data table notebook</a>'\n",
              "            + ' to learn more about interactive tables.';\n",
              "          element.innerHTML = '';\n",
              "          dataTable['output_type'] = 'display_data';\n",
              "          await google.colab.output.renderOutput(dataTable, element);\n",
              "          const docLink = document.createElement('div');\n",
              "          docLink.innerHTML = docLinkHtml;\n",
              "          element.appendChild(docLink);\n",
              "        }\n",
              "      </script>\n",
              "    </div>\n",
              "  </div>\n",
              "  "
            ]
          },
          "metadata": {},
          "execution_count": 2
        }
      ]
    },
    {
      "cell_type": "code",
      "source": [
        "#단축코드를 모두 6글자로 만들어주기.\n",
        "for idx, data in enumerate(df['단축코드']):\n",
        "  if len(str(data))<6:\n",
        "    while len(str(data))<=5:\n",
        "      data = \"0\"+str(data)\n",
        "  df['단축코드'].iloc[idx] = data\n",
        "df['단축코드']"
      ],
      "metadata": {
        "colab": {
          "base_uri": "https://localhost:8080/"
        },
        "id": "Jw67rl58zbBZ",
        "outputId": "c5853416-fbdc-4b8e-c945-7b6d7353f0a4"
      },
      "execution_count": null,
      "outputs": [
        {
          "output_type": "stream",
          "name": "stderr",
          "text": [
            "<ipython-input-3-30e5a6541652>:6: SettingWithCopyWarning: \n",
            "A value is trying to be set on a copy of a slice from a DataFrame\n",
            "\n",
            "See the caveats in the documentation: https://pandas.pydata.org/pandas-docs/stable/user_guide/indexing.html#returning-a-view-versus-a-copy\n",
            "  df['단축코드'].iloc[idx] = data\n"
          ]
        },
        {
          "output_type": "execute_result",
          "data": {
            "text/plain": [
              "0      095570\n",
              "1      006840\n",
              "2      282330\n",
              "3      027410\n",
              "4      138930\n",
              "        ...  \n",
              "933    005010\n",
              "934    000545\n",
              "935    000547\n",
              "936    000540\n",
              "937    003280\n",
              "Name: 단축코드, Length: 938, dtype: object"
            ]
          },
          "metadata": {},
          "execution_count": 3
        }
      ]
    },
    {
      "cell_type": "code",
      "source": [
        "filt = df['단축코드']==138930\n",
        "corp_name = str(df[filt]['한글 종목약명'].iloc[0])\n",
        "print(corp_name)"
      ],
      "metadata": {
        "colab": {
          "base_uri": "https://localhost:8080/"
        },
        "id": "zBKQjK39wP3c",
        "outputId": "cde8c5e3-a07a-4b83-da55-fd6c94a8f2cb"
      },
      "execution_count": null,
      "outputs": [
        {
          "output_type": "stream",
          "name": "stdout",
          "text": [
            "BNK금융지주\n"
          ]
        }
      ]
    },
    {
      "cell_type": "code",
      "source": [
        "corp_name =\"삼성전자\"+\"보통주\"\n",
        "filt = df['한글 종목명'].str.contains(corp_name)\n",
        "corp_num = str(df[filt]['단축코드'].iloc[0])\n",
        "print(corp_num)"
      ],
      "metadata": {
        "colab": {
          "base_uri": "https://localhost:8080/"
        },
        "id": "zlkzjtD7vHWc",
        "outputId": "a3bfa011-e5c3-4b4b-806d-428cc74736e6"
      },
      "execution_count": null,
      "outputs": [
        {
          "output_type": "stream",
          "name": "stdout",
          "text": [
            "005930\n"
          ]
        }
      ]
    },
    {
      "cell_type": "markdown",
      "source": [
        "##2. 찾은 종목 코드로 네이버 금융에 검색 (주소창에 종목 코드 입력)"
      ],
      "metadata": {
        "id": "ZErFffhlyrr1"
      }
    },
    {
      "cell_type": "code",
      "source": [
        "import requests\n",
        "from bs4 import BeautifulSoup\n",
        "\n",
        "url = f\"https://finance.naver.com/item/main.naver?code={corp_num}\"\n",
        "headers = {\"User-Agent\":\"Mozilla/5.0 (Windows NT 10.0; Win64; x64) AppleWebKit/537.36 (KHTML, like Gecko) Chrome/98.0.4758.102 Safari/537.36\"}\n",
        "res = requests.get(url, headers=headers)\n",
        "res.raise_for_status()\n",
        "\n",
        "soup = BeautifulSoup(res.text, \"lxml\")"
      ],
      "metadata": {
        "id": "wAQrwWhQyzU1"
      },
      "execution_count": null,
      "outputs": []
    },
    {
      "cell_type": "markdown",
      "source": [
        "##3. 네이버 금융에서 투자 지표 가져오기 (BeautifulSoup)"
      ],
      "metadata": {
        "id": "V3Mz4kia2CfP"
      }
    },
    {
      "cell_type": "markdown",
      "source": [
        "###투자지표\n",
        "1. EV/EBIDTA\n",
        "2. PER vs 연간 이익 성장률\n",
        "3. PBR\n",
        "4. 이익성장률\n",
        "5. 매출 증가율\n",
        "6. 현금 보유량\n",
        "7. 부채비율"
      ],
      "metadata": {
        "id": "Rw4RK3c32Fkv"
      }
    },
    {
      "cell_type": "markdown",
      "source": [
        "###1. EV/EBIDTA\n",
        "iframe의 src=\"\"에 나와있는 url로 이동해서 BeautifulSoup 적용해야됨."
      ],
      "metadata": {
        "id": "jtLi8EA32V0S"
      }
    },
    {
      "cell_type": "code",
      "source": [
        "import requests\n",
        "from bs4 import BeautifulSoup\n",
        "\n",
        "url = f\"https://navercomp.wisereport.co.kr/v2/company/c1010001.aspx?cmp_cd={corp_num}\"\n",
        "headers = {\"User-Agent\":\"Mozilla/5.0 (Windows NT 10.0; Win64; x64) AppleWebKit/537.36 (KHTML, like Gecko) Chrome/98.0.4758.102 Safari/537.36\"}\n",
        "res = requests.get(url, headers=headers)\n",
        "res.raise_for_status()\n",
        "\n",
        "soup = BeautifulSoup(res.text, \"lxml\")"
      ],
      "metadata": {
        "id": "UzToP4yDZK4m"
      },
      "execution_count": null,
      "outputs": []
    },
    {
      "cell_type": "code",
      "source": [
        "#EV/EBITDA\n",
        "rank1 = soup.find('th', text = 'EV/EBITDA')\n",
        "rank2 = rank1.find_next_sibling('td')\n",
        "EV_EBITDA = rank2.get_text()\n",
        "print(EV_EBITDA)"
      ],
      "metadata": {
        "colab": {
          "base_uri": "https://localhost:8080/"
        },
        "id": "L4HKDKhkYCWQ",
        "outputId": "61c6a22d-d2a2-4b2c-af4e-b186e24aecf6"
      },
      "execution_count": null,
      "outputs": [
        {
          "output_type": "stream",
          "name": "stdout",
          "text": [
            "3.70\n"
          ]
        },
        {
          "output_type": "stream",
          "name": "stderr",
          "text": [
            "<ipython-input-8-f6832d205eef>:2: DeprecationWarning: The 'text' argument to find()-type methods is deprecated. Use 'string' instead.\n",
            "  rank1 = soup.find('th', text = 'EV/EBITDA')\n"
          ]
        }
      ]
    },
    {
      "cell_type": "markdown",
      "source": [
        "###2. PER vs 연간 이익 성장률\n",
        "import re 정규식으로 PER의 값만 나타내기"
      ],
      "metadata": {
        "id": "k-r4-mcvQjFf"
      }
    },
    {
      "cell_type": "code",
      "source": [
        "# PER\n",
        "rank1_per = soup.find_all('dt', attrs={'class':'line-left'})\n",
        "\n",
        "list_per = []\n",
        "for i in rank1_per:\n",
        "  list_per.append(i.get_text())\n",
        "\n",
        "# list comprehension 사용\n",
        "matching1 = [s for s in list_per if \"PER\" in s]\n",
        "matching_per = matching1[0][4:]\n",
        "print(matching_per)"
      ],
      "metadata": {
        "colab": {
          "base_uri": "https://localhost:8080/"
        },
        "id": "Le4w7dwcffer",
        "outputId": "34bd1429-14c1-4167-fc45-82c4eb6c5f42"
      },
      "execution_count": null,
      "outputs": [
        {
          "output_type": "stream",
          "name": "stdout",
          "text": [
            "7.61\n"
          ]
        }
      ]
    },
    {
      "cell_type": "code",
      "source": [
        "# 연간 이익 성장률\n",
        "rank1_rising = soup.find('td', attrs={'title':'영업이익증가율'})\n",
        "rank2_rising = rank1.find_next_siblings('td')\n",
        "rank3_rising = rank1.find_previous_sibling('td')\n",
        "print(rank2_rising)\n",
        "print(rank3_rising)"
      ],
      "metadata": {
        "colab": {
          "base_uri": "https://localhost:8080/"
        },
        "id": "YwTa1Ta1kBMW",
        "outputId": "2fe5731e-1b64-46d4-844c-f3e26d529a41"
      },
      "execution_count": null,
      "outputs": [
        {
          "output_type": "stream",
          "name": "stdout",
          "text": [
            "[<td class=\"num\">3.70</td>, <td class=\"num noline-right\">5.32</td>]\n",
            "None\n"
          ]
        }
      ]
    },
    {
      "cell_type": "code",
      "source": [],
      "metadata": {
        "id": "2Hs3I-QX7frR"
      },
      "execution_count": null,
      "outputs": []
    },
    {
      "cell_type": "code",
      "source": [
        "rank1_rising = soup.select_one('#tcQmZIZ20rMn > table:nth-child(2) > tbody > tr:nth-child(4) > td.num.ext4')\n",
        "print(rank1_rising)"
      ],
      "metadata": {
        "colab": {
          "base_uri": "https://localhost:8080/"
        },
        "id": "RuV1SW7Bnkno",
        "outputId": "683d44cb-f001-4aff-e955-6051fe414a18"
      },
      "execution_count": null,
      "outputs": [
        {
          "output_type": "stream",
          "name": "stdout",
          "text": [
            "None\n"
          ]
        }
      ]
    },
    {
      "cell_type": "markdown",
      "source": [
        "###3.PBR"
      ],
      "metadata": {
        "id": "OgyKMdBno9eG"
      }
    },
    {
      "cell_type": "code",
      "source": [
        "# PBR\n",
        "rank1_pbr = soup.find_all('dt', attrs={'class':'line-left'})\n",
        "\n",
        "list_pbr = []\n",
        "for i in rank1_pbr:\n",
        "  list_pbr.append(i.get_text())\n",
        "\n",
        "# list comprehension 사용\n",
        "matching2 = [s for s in list_pbr if \"PBR\" in s]\n",
        "matching_pbr = matching2[0][4:]\n",
        "print(matching_pbr)"
      ],
      "metadata": {
        "colab": {
          "base_uri": "https://localhost:8080/"
        },
        "id": "Kk1vpmPWpCc4",
        "outputId": "0b218c46-9e1e-4dbd-87b0-52fae741752d"
      },
      "execution_count": null,
      "outputs": [
        {
          "output_type": "stream",
          "name": "stdout",
          "text": [
            "1.21\n"
          ]
        }
      ]
    },
    {
      "cell_type": "markdown",
      "source": [
        "###4. 이익성장률\n",
        "미완성. PEGR 한번 알아보기"
      ],
      "metadata": {
        "id": "pfMCg6nspKu6"
      }
    },
    {
      "cell_type": "code",
      "source": [
        "# 연간 이익 성장률\n",
        "rank1_rising = soup.find('td', attrs={'title':'영업이익증가율'})\n",
        "rank2_rising = rank1.find_next_siblings('td')\n",
        "rank3_rising = rank1.find_previous_sibling('td')\n",
        "print(rank1_rising)\n",
        "print(rank2_rising)\n",
        "print(rank3_rising)"
      ],
      "metadata": {
        "id": "o5Fn0GN7pRhB",
        "colab": {
          "base_uri": "https://localhost:8080/"
        },
        "outputId": "f74e91bd-27f3-428e-c1e6-bae9400f5864"
      },
      "execution_count": null,
      "outputs": [
        {
          "output_type": "stream",
          "name": "stdout",
          "text": [
            "None\n",
            "[<td class=\"num\">3.70</td>, <td class=\"num noline-right\">5.32</td>]\n",
            "None\n"
          ]
        }
      ]
    },
    {
      "cell_type": "code",
      "source": [
        "#영업이익 증가율\n",
        "rank1_rising = soup.find_all('td', attrs={'class':'num ext0'})\n",
        "#rank2_rising = rank1_rising.find_next_siblings('td')\n",
        "print(rank1_rising)"
      ],
      "metadata": {
        "colab": {
          "base_uri": "https://localhost:8080/"
        },
        "id": "En4FyM9x4-6d",
        "outputId": "2aa0120a-df57-42c5-b79a-f54cc9247710"
      },
      "execution_count": null,
      "outputs": [
        {
          "output_type": "stream",
          "name": "stdout",
          "text": [
            "[]\n"
          ]
        }
      ]
    },
    {
      "cell_type": "markdown",
      "source": [
        "###5. 매출 증가율"
      ],
      "metadata": {
        "id": "VP2JETKspUac"
      }
    },
    {
      "cell_type": "code",
      "source": [
        "# 매출액 증가율 : 이익성장률과 같은 방법으로."
      ],
      "metadata": {
        "id": "6E-p8JNapY1c"
      },
      "execution_count": null,
      "outputs": []
    },
    {
      "cell_type": "markdown",
      "source": [
        "###6. 현금 보유량"
      ],
      "metadata": {
        "id": "-DBQJq5Dpc0q"
      }
    },
    {
      "cell_type": "code",
      "source": [
        "# 현금 보유량 : 이익성장률과 같은 방법으로."
      ],
      "metadata": {
        "id": "nMuUz3GTp3QK"
      },
      "execution_count": null,
      "outputs": []
    },
    {
      "cell_type": "markdown",
      "source": [
        "###7. 부채비율"
      ],
      "metadata": {
        "id": "9PWm7xjYp6wj"
      }
    },
    {
      "cell_type": "code",
      "source": [
        "# 부채 비율 : 이익성장률과 같은 방법으로."
      ],
      "metadata": {
        "id": "xBNN87Dup-Uy"
      },
      "execution_count": null,
      "outputs": []
    },
    {
      "cell_type": "markdown",
      "source": [
        "##4. 투자 지표 조건 만족하는 회사 찾기.\n",
        "1. for i in df['단축코드']: 사용해서 모든 회사 투자지표 검색\n",
        "2."
      ],
      "metadata": {
        "id": "JNJaTMkwdbUB"
      }
    },
    {
      "cell_type": "code",
      "source": [
        "import requests\n",
        "from bs4 import BeautifulSoup\n",
        "\n",
        "url = f\"https://navercomp.wisereport.co.kr/v2/company/c1010001.aspx?cmp_cd={corp_num}\"\n",
        "headers = {\"User-Agent\":\"Mozilla/5.0 (Windows NT 10.0; Win64; x64) AppleWebKit/537.36 (KHTML, like Gecko) Chrome/98.0.4758.102 Safari/537.36\"}\n",
        "res = requests.get(url, headers=headers)\n",
        "res.raise_for_status()\n",
        "\n",
        "soup = BeautifulSoup(res.text, \"lxml\")"
      ],
      "metadata": {
        "id": "1GMohM8Eei0U"
      },
      "execution_count": null,
      "outputs": []
    },
    {
      "cell_type": "code",
      "source": [
        "for i in df['단축코드']:\n",
        "  #BeautifulSoup으로 크롤링 시작\n",
        "  url = f\"https://navercomp.wisereport.co.kr/v2/company/c1010001.aspx?cmp_cd={i}\"\n",
        "  headers = {\"User-Agent\":\"Mozilla/5.0 (Windows NT 10.0; Win64; x64) AppleWebKit/537.36 (KHTML, like Gecko) Chrome/98.0.4758.102 Safari/537.36\"}\n",
        "  res = requests.get(url, headers=headers)\n",
        "  res.raise_for_status()\n",
        "\n",
        "  soup = BeautifulSoup(res.text, \"lxml\")\n",
        "\n",
        "  #종목 이름\n",
        "  filt_1 = df['단축코드']==i\n",
        "  corp_name = str(df[filt_1]['한글 종목약명'].iloc[0])\n",
        "\n",
        "  #EV/EBITDA\n",
        "  rank1 = soup.find('th', text = 'EV/EBITDA')\n",
        "  rank2 = rank1.find_next_sibling('td')\n",
        "  EV_EBITDA = rank2.get_text()\n",
        "\n",
        "  #PER\n",
        "  rank1_per = soup.find_all('dt', attrs={'class':'line-left'})\n",
        "  list_per = []\n",
        "  for i1 in rank1_per:\n",
        "    list_per.append(i1.get_text())\n",
        "  # list comprehension 사용\n",
        "  matching1 = [s1 for s1 in list_per if \"PER\" in s1]\n",
        "  matching_per = matching1[0][4:]\n",
        "\n",
        "  # PBR\n",
        "  rank1_pbr = soup.find_all('dt', attrs={'class':'line-left'})\n",
        "  list_pbr = []\n",
        "  for i2 in rank1_pbr:\n",
        "    list_pbr.append(i2.get_text())\n",
        "  # list comprehension 사용\n",
        "  matching2 = [s2 for s2 in list_pbr if \"PBR\" in s2]\n",
        "  matching_pbr = matching2[0][4:]\n",
        "\n",
        "  # 필터링 시작\n",
        "  try :\n",
        "    if float(EV_EBITDA) <3 and float(EV_EBITDA) >0 and float(matching_pbr) <1 and float(matching_per) < 5 and float(matching_per) > 0:\n",
        "      print(i)#종목코드\n",
        "      print(corp_name)\n",
        "      print(\"EV/EBITDA=\"+ EV_EBITDA)\n",
        "      print(\"PBR=\"+matching_pbr)\n",
        "      print(\"PER=\"+matching_per)\n",
        "      print('-'*50)\n",
        "  except: pass"
      ],
      "metadata": {
        "colab": {
          "base_uri": "https://localhost:8080/",
          "height": 1000
        },
        "id": "wJ0NPUXhdty5",
        "outputId": "826521e6-8524-41f1-e211-e278f9c45001"
      },
      "execution_count": null,
      "outputs": [
        {
          "output_type": "stream",
          "name": "stderr",
          "text": [
            "<ipython-input-22-9c6864986507>:15: DeprecationWarning: The 'text' argument to find()-type methods is deprecated. Use 'string' instead.\n",
            "  rank1 = soup.find('th', text = 'EV/EBITDA')\n"
          ]
        },
        {
          "output_type": "stream",
          "name": "stdout",
          "text": [
            "37550K\n",
            "DL이앤씨우\n",
            "EV/EBITDA=0.59\n",
            "PBR=0.33\n",
            "PER=3.50\n",
            "--------------------------------------------------\n",
            "37550L\n",
            "DL이앤씨2우(전환)\n",
            "EV/EBITDA=0.59\n",
            "PBR=0.33\n",
            "PER=3.50\n",
            "--------------------------------------------------\n",
            "375500\n",
            "DL이앤씨\n",
            "EV/EBITDA=0.59\n",
            "PBR=0.33\n",
            "PER=3.50\n",
            "--------------------------------------------------\n",
            "092230\n",
            "KPX홀딩스\n",
            "EV/EBITDA=0.22\n",
            "PBR=0.24\n",
            "PER=4.77\n",
            "--------------------------------------------------\n",
            "093050\n",
            "LF\n",
            "EV/EBITDA=2.09\n",
            "PBR=0.34\n",
            "PER=3.88\n",
            "--------------------------------------------------\n",
            "001120\n",
            "LX인터내셔널\n",
            "EV/EBITDA=1.45\n",
            "PBR=0.47\n",
            "PER=2.20\n",
            "--------------------------------------------------\n",
            "010060\n",
            "OCI\n",
            "EV/EBITDA=2.45\n",
            "PBR=0.56\n",
            "PER=2.50\n",
            "--------------------------------------------------\n",
            "009160\n",
            "SIMPAC\n",
            "EV/EBITDA=2.16\n",
            "PBR=0.46\n",
            "PER=2.91\n",
            "--------------------------------------------------\n",
            "013580\n",
            "계룡건설\n",
            "EV/EBITDA=1.60\n",
            "PBR=0.22\n",
            "PER=1.50\n",
            "--------------------------------------------------\n",
            "037710\n",
            "광주신세계\n",
            "EV/EBITDA=0.62\n",
            "PBR=0.34\n",
            "PER=4.76\n",
            "--------------------------------------------------\n",
            "002995\n",
            "금호건설우\n",
            "EV/EBITDA=1.66\n",
            "PBR=0.45\n",
            "PER=3.63\n",
            "--------------------------------------------------\n",
            "002990\n",
            "금호건설\n",
            "EV/EBITDA=1.66\n",
            "PBR=0.45\n",
            "PER=3.63\n",
            "--------------------------------------------------\n",
            "011785\n",
            "금호석유우\n",
            "EV/EBITDA=1.37\n",
            "PBR=0.69\n",
            "PER=3.97\n",
            "--------------------------------------------------\n",
            "011780\n",
            "금호석유\n",
            "EV/EBITDA=1.37\n",
            "PBR=0.69\n",
            "PER=3.97\n",
            "--------------------------------------------------\n",
            "047040\n",
            "대우건설\n",
            "EV/EBITDA=1.70\n",
            "PBR=0.46\n",
            "PER=3.48\n",
            "--------------------------------------------------\n",
            "016090\n",
            "대현\n",
            "EV/EBITDA=2.05\n",
            "PBR=0.41\n",
            "PER=3.64\n",
            "--------------------------------------------------\n",
            "001230\n",
            "동국제강\n",
            "EV/EBITDA=2.90\n",
            "PBR=0.33\n",
            "PER=1.56\n",
            "--------------------------------------------------\n",
            "024090\n",
            "디씨엠\n",
            "EV/EBITDA=1.71\n",
            "PBR=0.48\n",
            "PER=4.24\n",
            "--------------------------------------------------\n"
          ]
        },
        {
          "output_type": "error",
          "ename": "AttributeError",
          "evalue": "ignored",
          "traceback": [
            "\u001b[0;31m---------------------------------------------------------------------------\u001b[0m",
            "\u001b[0;31mAttributeError\u001b[0m                            Traceback (most recent call last)",
            "\u001b[0;32m<ipython-input-22-9c6864986507>\u001b[0m in \u001b[0;36m<module>\u001b[0;34m\u001b[0m\n\u001b[1;32m     14\u001b[0m   \u001b[0;31m#EV/EBITDA\u001b[0m\u001b[0;34m\u001b[0m\u001b[0;34m\u001b[0m\u001b[0m\n\u001b[1;32m     15\u001b[0m   \u001b[0mrank1\u001b[0m \u001b[0;34m=\u001b[0m \u001b[0msoup\u001b[0m\u001b[0;34m.\u001b[0m\u001b[0mfind\u001b[0m\u001b[0;34m(\u001b[0m\u001b[0;34m'th'\u001b[0m\u001b[0;34m,\u001b[0m \u001b[0mtext\u001b[0m \u001b[0;34m=\u001b[0m \u001b[0;34m'EV/EBITDA'\u001b[0m\u001b[0;34m)\u001b[0m\u001b[0;34m\u001b[0m\u001b[0;34m\u001b[0m\u001b[0m\n\u001b[0;32m---> 16\u001b[0;31m   \u001b[0mrank2\u001b[0m \u001b[0;34m=\u001b[0m \u001b[0mrank1\u001b[0m\u001b[0;34m.\u001b[0m\u001b[0mfind_next_sibling\u001b[0m\u001b[0;34m(\u001b[0m\u001b[0;34m'td'\u001b[0m\u001b[0;34m)\u001b[0m\u001b[0;34m\u001b[0m\u001b[0;34m\u001b[0m\u001b[0m\n\u001b[0m\u001b[1;32m     17\u001b[0m   \u001b[0mEV_EBITDA\u001b[0m \u001b[0;34m=\u001b[0m \u001b[0mrank2\u001b[0m\u001b[0;34m.\u001b[0m\u001b[0mget_text\u001b[0m\u001b[0;34m(\u001b[0m\u001b[0;34m)\u001b[0m\u001b[0;34m\u001b[0m\u001b[0;34m\u001b[0m\u001b[0m\n\u001b[1;32m     18\u001b[0m \u001b[0;34m\u001b[0m\u001b[0m\n",
            "\u001b[0;31mAttributeError\u001b[0m: 'NoneType' object has no attribute 'find_next_sibling'"
          ]
        }
      ]
    }
  ]
}